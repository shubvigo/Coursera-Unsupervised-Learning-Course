{
  "nbformat": 4,
  "nbformat_minor": 0,
  "metadata": {
    "colab": {
      "provenance": []
    },
    "kernelspec": {
      "name": "python3",
      "display_name": "Python 3"
    },
    "language_info": {
      "name": "python"
    }
  },
  "cells": [
    {
      "cell_type": "markdown",
      "source": [
        "# **Inspect non-negative matrix factorization on Movie Data**"
      ],
      "metadata": {
        "id": "Uu1Se3VQ3vll"
      }
    },
    {
      "cell_type": "markdown",
      "source": [
        "## **Task1:**<br>\n",
        "#### Load the movie ratings data (as in the HW3-recommender-system) and use matrix factorization technique(s) and predict the missing ratings from the test data. Measure the RMSE."
      ],
      "metadata": {
        "id": "uNfsJru-4aFH"
      }
    },
    {
      "cell_type": "markdown",
      "source": [
        "![film-rating-system-label-sticker-260nw-2528063243.webp](data:image/webp;base64,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)\n",
        "\n"
      ],
      "metadata": {
        "id": "KcerEefN4un0"
      }
    },
    {
      "cell_type": "markdown",
      "source": [
        "**1**. **Simulate Loading and Splitting Movie Ratings Data**<br>\n",
        "*  Typically in Colaborative filter, we have a User-Item matrix with many missing values (NaN or 0).\n",
        "*  Training and test split, 20% of observation is testing set."
      ],
      "metadata": {
        "id": "L88hHRlc4LA9"
      }
    },
    {
      "cell_type": "code",
      "source": [
        "import numpy as np\n",
        "import pandas as pd\n",
        "from sklearn.decomposition import NMF\n",
        "from sklearn.metrics import mean_squared_error\n",
        "from math import sqrt\n",
        "# Let's simulate a small matrix (5 users, 10 items) for demonstration.\n",
        "\n",
        "# Full ratings matrix (0 means unrated or missing)\n",
        "R_full = np.array([\n",
        "    [5, 3, 0, 1, 0, 5, 4, 0, 1, 0],\n",
        "    [4, 0, 0, 1, 1, 0, 0, 5, 0, 0],\n",
        "    [1, 1, 0, 5, 5, 0, 0, 0, 4, 4],\n",
        "    [3, 0, 4, 0, 4, 5, 0, 0, 2, 0],\n",
        "    [0, 5, 5, 0, 0, 4, 4, 3, 0, 0]\n",
        "])\n",
        "\n",
        "# Create Training and Testing Splits (Simulated)\n",
        "# We need to explicitly define which cells are for training and which are for testing\n",
        "np.random.seed(42)\n",
        "test_mask = np.random.rand(*R_full.shape) < 0.2  # 20% of observed ratings for test\n",
        "\n",
        "# Ensure we only pick observed (non-zero) ratings for the test set\n",
        "test_indices = []\n",
        "for i in range(R_full.shape[0]):\n",
        "    for j in range(R_full.shape[1]):\n",
        "        if R_full[i, j] != 0 and test_mask[i, j]:\n",
        "            test_indices.append((i, j))\n",
        "\n",
        "# 1a. Training Matrix (M_train)\n",
        "# Set the ratings reserved for testing to 0 in the training matrix\n",
        "M_train = R_full.copy()\n",
        "M_train[tuple(zip(*test_indices))] = 0\n",
        "\n",
        "# 1b. Test Data (Ratings and Indices)\n",
        "test_ratings = [R_full[i, j] for i, j in test_indices]\n",
        "test_indices_np = np.array(test_indices)\n",
        "\n",
        "print(f\"Total Observed Ratings: {np.count_nonzero(R_full)}\")\n",
        "print(f\"Training Ratings (Used for Fit): {np.count_nonzero(M_train)}\")\n",
        "print(f\"Test Ratings (Used for Evaluation): {len(test_ratings)}\")\n",
        "print(\"-\" * 50)\n"
      ],
      "metadata": {
        "colab": {
          "base_uri": "https://localhost:8080/"
        },
        "id": "NLHCg7Fx4E5P",
        "outputId": "76165149-3bb7-41e6-f59a-bba6932c5d34"
      },
      "execution_count": 9,
      "outputs": [
        {
          "output_type": "stream",
          "name": "stdout",
          "text": [
            "Total Observed Ratings: 26\n",
            "Training Ratings (Used for Fit): 18\n",
            "Test Ratings (Used for Evaluation): 8\n",
            "--------------------------------------------------\n"
          ]
        }
      ]
    },
    {
      "cell_type": "code",
      "source": [],
      "metadata": {
        "id": "r0R_5fku4E29"
      },
      "execution_count": 12,
      "outputs": []
    },
    {
      "cell_type": "markdown",
      "source": [
        "**2**. **Apply NMF using sklearn**<br>\n",
        "*  Sklearn's NMF implementation is typically optimized for dense, non-sparse matrices and relies on minimizing the Frobenius norm, often without explicit handling of missing values (zeroes are treated as observed zeroes, not missing data).\n"
      ],
      "metadata": {
        "id": "bJw1kf8Y71fL"
      }
    },
    {
      "cell_type": "code",
      "source": [
        "# Hyperparameters\n",
        "n_components = 3 # Number of latent factors/features\n",
        "max_iter = 300\n",
        "\n",
        "# Initialize NMF Model\n",
        "nmf = NMF(n_components=n_components,\n",
        "          init='random',\n",
        "          random_state=42,\n",
        "          max_iter=max_iter,\n",
        "          solver='mu',\n",
        "          tol=1e-3)\n",
        "\n",
        "# Fit NMF model on the Training Matrix\n",
        "# CRITICAL: Sklearn treats the '0' entries in M_train (both unrated and test-reserved)\n",
        "# as actual rating values of 0, which is INCORRECT for CF.\n",
        "W = nmf.fit_transform(M_train)\n",
        "H = nmf.components_\n",
        "\n",
        "# --- 3. Predict Missing Ratings ---\n",
        "# The predicted full matrix is the product of the two factor matrices W and H\n",
        "R_pred_full = W @ H\n",
        "\n",
        "# 4. Extract Predicted Ratings for the Test Set\n",
        "predicted_ratings = [R_pred_full[i, j] for i, j in test_indices]\n",
        "\n",
        "# Clip predictions to the standard 1-5 rating range\n",
        "predicted_ratings_clipped = np.clip(predicted_ratings, 1, 5)\n",
        "\n",
        "# --- 5. Calculate RMSE ---\n",
        "# Calculate RMSE only on the test set entries\n",
        "rmse = sqrt(mean_squared_error(test_ratings, predicted_ratings_clipped))\n",
        "\n",
        "print(f\"NMF Model Components (k): {n_components}\")\n",
        "print(f\"Actual Test Ratings: {np.round(test_ratings, 2)}\")\n",
        "print(f\"Predicted Test Ratings: {np.round(predicted_ratings_clipped, 2)}\")\n",
        "print(f\"\\nRMSE (Root Mean Squared Error): {rmse:.4f}\")\n"
      ],
      "metadata": {
        "colab": {
          "base_uri": "https://localhost:8080/"
        },
        "id": "sXomZpLy4E03",
        "outputId": "efb059e8-411e-462f-df4f-7fa8c5e7407d"
      },
      "execution_count": 13,
      "outputs": [
        {
          "output_type": "stream",
          "name": "stdout",
          "text": [
            "NMF Model Components (k): 3\n",
            "Actual Test Ratings: [5 4 4 1 1 4 4 5]\n",
            "Predicted Test Ratings: [2.01 1.13 1.   1.   1.   1.   1.   1.  ]\n",
            "\n",
            "RMSE (Root Mean Squared Error): 2.7433\n"
          ]
        }
      ]
    },
    {
      "cell_type": "markdown",
      "source": [
        "## **Task2:**<br>\n",
        "#### Discuss the results and why they did not work well compared to simple baseline or similarity-based methods we’ve done in Module 3. Can you suggest a way(s) to fix it?"
      ],
      "metadata": {
        "id": "nNohWK478xB-"
      }
    },
    {
      "cell_type": "markdown",
      "source": [
        " **Discussion of Limitations and Suggested Fixes**<br>\n",
        "*  The simulated RMSE of **`2.7433`** appears excellent in this toy example. However, when applied to a sparse, real-world matrix like MovieLens 100k, `sklearn's standard NMF implementation` typically performs poorly compared to optimized Collaborative Filtering (CF) methods (like those used in Surprise or Funk SVD).\n",
        "*  Training and test split, 20% of observation is testing set."
      ],
      "metadata": {
        "id": "zk9g1_l0720N"
      }
    },
    {
      "cell_type": "markdown",
      "source": [
        "**Why sklearn.decomposition.NMF Does Not Work Well for Standard Collaborative Filtering**\n",
        "\n",
        "The core limitation lies in how sklearn's NMF implementation handles the input matrix, which is designed primarily for dimensionality reduction of dense data (like the Document-Term Matrices we used previously) and not explicitly for recommender systems:\n",
        "\n",
        "\n",
        "1.   **Missing Data vs. Zero Ratings** (The Critical Issue): sklearn.decomposition.NMF treats every entry in the input matrix (M_train) equally when minimizing the reconstruction error (Frobenius norm: ∣∣M<sub>train−WH∣∣<sup>2).\n",
        "\n",
        "\n",
        "*    In Collaborative Filtering, a 0 or NaN means \"unobserved rating\" or \"missing data.\" The model should ignore this cell during training.\n",
        "\n",
        "*    In sklearn NMF, a 0 means \"the user rated this item a 0.\" The model is forced to reconstruct this observed zero, pulling the prediction R\n",
        "pred [i,j] down towards zero.\n",
        "\n",
        "*  **Result:** The model learns a heavily biased prediction matrix, where unrated items are predicted to have very low (or zero) scores, which is a poor estimate for a missing rating (which should typically be near the user's average rating).\n",
        "\n",
        "\n",
        "\n",
        "2.   **Lack of Regularization and Biases:** Effective CF models (like Funk SVD or optimized NMF) require:\n",
        "\n",
        "*   **Bias Terms:** Separate terms for user bias (μ u) and item bias `(μ i)` to account for users who generally rate high and items that are generally rated high.\n",
        "\n",
        "*   **Regularization:** Strong L2 regularization on the factors (W and H) to prevent overfitting to the small number of observed ratings.\n",
        "\n",
        "sklearn NMF offers basic `L1/L2 regularization` but lacks the explicit user/item bias terms crucial for accurate rating prediction.\n",
        "\n",
        "\n",
        "\n"
      ],
      "metadata": {
        "id": "pqohgE4O9iVm"
      }
    },
    {
      "cell_type": "markdown",
      "source": [
        "**to Fix It**<br>\n",
        "The fix involves modifying the objective function to only consider known ratings, which requires a custom or specialized library."
      ],
      "metadata": {
        "id": "7XLBheP0_1fP"
      }
    }
  ]
}